{
 "cells": [
  {
   "cell_type": "markdown",
   "metadata": {},
   "source": [
    "# Challenge 1"
   ]
  },
  {
   "cell_type": "markdown",
   "metadata": {},
   "source": [
    "One player rolls two dices. Describe the measure space and the random variable for:\n",
    "A. The numbers he/she obtains\n",
    "B. The sum of the rolls\n",
    "C. Take only the maximum value"
   ]
  },
  {
   "cell_type": "markdown",
   "metadata": {},
   "source": [
    "    Measure space = {1,2,3,4,5,6}\n",
    "\n",
    "    Structure = {(1,2),(2,1),(2,2) ... (6,6)}\n",
    "\n",
    "    A. X{(1,2)} = (1,2)\n",
    "\n",
    "    B. Y{(1,2)} = 3\n",
    "\n",
    "    C. Z{(1,2)} = 2\n",
    "\n"
   ]
  },
  {
   "cell_type": "markdown",
   "metadata": {},
   "source": [
    "Describe the following events:\n",
    "\n",
    "For case A: the number is greater than 5\n",
    "Case B: The sum is even\n",
    "Case C: the maximum is the value of both rolls"
   ]
  },
  {
   "cell_type": "markdown",
   "metadata": {},
   "source": [
    "    A. X{(6,6)} = (6,6)\n",
    "\n",
    "    B. Y{(2,2)} = 4\n",
    "\n",
    "    C. Z{(2,1)} = 2"
   ]
  },
  {
   "cell_type": "markdown",
   "metadata": {},
   "source": [
    "# Challenge 2"
   ]
  },
  {
   "cell_type": "markdown",
   "metadata": {},
   "source": [
    "One player is taking two cards from poker deck. Describe the measure space and the random variable for:\n",
    "A. The number of figures he takes.\n",
    "B. The sum of the cards (figures sum 10 and ace sum 15)\n",
    "C. The number of hearts or spades he takes."
   ]
  },
  {
   "cell_type": "markdown",
   "metadata": {},
   "source": [
    "    Measure Space = {2,3,4,5,6,7,8,9,10,J,Q,K,A}\n",
    "\n",
    "    Structure = {(2,3),(3,2),(J,J),(J,Q),(Q,J) ... (K,K)}\n",
    "\n",
    "    X({J,A)} = (J,A)\n",
    "\n",
    "    Y({J,A}) = 25\n",
    "\n",
    "    Z({J,A}) = 0 "
   ]
  },
  {
   "cell_type": "markdown",
   "metadata": {},
   "source": [
    "Describe the 3 following events:\n",
    "\n",
    "For case A. The number of figures is two.\n",
    "Case B: The sum is 17.\n",
    "Case C: The number is less than 8."
   ]
  },
  {
   "cell_type": "markdown",
   "metadata": {},
   "source": [
    "    X({J,A)} = (J,A)\n",
    "  \n",
    "    Y({J,7}) = 17\n",
    "  \n",
    "    Z{()} ???"
   ]
  },
  {
   "cell_type": "markdown",
   "metadata": {},
   "source": [
    "# Challenge 3"
   ]
  },
  {
   "cell_type": "markdown",
   "metadata": {},
   "source": [
    "Two players roll a dice. Describe the measure space and the random variable for:\n",
    "\n",
    "The score for player A\n",
    "\n",
    "Greatest score\n",
    "\n",
    "Earnings of player A with the rule “the player that has the greatest score receives a coin for the other player”\n",
    "\n",
    "Earnings of the player A with the rule “the player that has the greatest score receives the difference between the \n",
    "two scores”"
   ]
  },
  {
   "cell_type": "markdown",
   "metadata": {},
   "source": [
    "    Measure space = {1,2,3,4,5,6}\n",
    "\n",
    "    Structure = {(1,2),(2,1),(2,2) ... (6,6)}\n",
    "\n",
    "    A: X({2,6}) = (2,6)\n",
    "\n",
    "    Earnings A = -1 \n",
    "\n",
    "    Earnings A = -4\n",
    "\n"
   ]
  },
  {
   "cell_type": "markdown",
   "metadata": {},
   "source": [
    "Describe the events:\n",
    "\n",
    "The score of player A is 2 (case A)\n",
    "    \n",
    "    X({2,1}) = (2)\n",
    "\n",
    "The greatest score is <=2 (case B)\n",
    "\n",
    "    X({2,1}) = (2,1)\n",
    "\n",
    "If the winner pays the other the difference (case D):\n",
    "\n",
    "\n",
    "    ???\n",
    "    \n",
    "A wins at least 4 coins.\n",
    "\n",
    "    X({6,2}) = (6,2)\n",
    "\n",
    "A loses more than 2 coins.\n",
    "\n",
    "    X({1,6})\n",
    "\n",
    "No one loses.\n",
    "\n",
    "    X({3,3})"
   ]
  },
  {
   "cell_type": "markdown",
   "metadata": {},
   "source": [
    "# Challenge 4 "
   ]
  },
  {
   "cell_type": "markdown",
   "metadata": {},
   "source": [
    "Three players take balls. There are red, blue, green and black balls. They can take three balls at most with the following rules:\n",
    "\n",
    "    \n",
    "If the ball is red they can’t take another ball.\n",
    "\n",
    "If the ball is green they earn a point and they can take another ball.\n",
    "\n",
    "If the ball is blue they can take another ball.\n",
    "\n",
    "If the ball is black one point is removed and they can’t take another ball.\n"
   ]
  },
  {
   "cell_type": "markdown",
   "metadata": {},
   "source": [
    "-"
   ]
  },
  {
   "cell_type": "markdown",
   "metadata": {},
   "source": [
    "Describe the measure space and the random variable for:\n",
    "    \n",
    "    Measure Space = ({R,G,B,Bl})\n",
    "    \n",
    "    Structure = ({R},{Bl},{B,R},{B,B},{B,B,B},{B,G,G},... ,{B,Bl},{B,B})\n",
    "    \n",
    "\n",
    "Player A wins (no tie).\n",
    "\n",
    "    X({G,G,G},{B,R},{B,Bl}) = 1\n",
    "\n",
    "Player A and B get the same points.\n",
    "\n",
    "    Y({R},{R},{Bl}) = 2\n",
    "\n",
    "All players get 0 points.\n",
    "\n",
    "    Z({B,B},{R},{B,R}) = 3\n"
   ]
  },
  {
   "cell_type": "markdown",
   "metadata": {},
   "source": [
    "# Challenge 5"
   ]
  },
  {
   "cell_type": "markdown",
   "metadata": {},
   "source": [
    "Now we are four players. What changes for each case?\n",
    "\n"
   ]
  },
  {
   "cell_type": "markdown",
   "metadata": {},
   "source": [
    "Measure Space does not change. \n",
    "\n",
    "But structure changes (more conbinations possible). \n"
   ]
  },
  {
   "cell_type": "markdown",
   "metadata": {},
   "source": [
    "# Challenge 6"
   ]
  },
  {
   "cell_type": "markdown",
   "metadata": {},
   "source": [
    "We have 5 balls in an urn, two black and three white. Describe the measure space and the random variable for:\n",
    "\n",
    "    \n",
    "The number of white balls after 3 takes, if every time we take a ball we keep it.\n",
    "\n",
    "The number of white balls after 3 takes, if every time we take a ball we put it again into the urn.\n",
    "\n",
    "The number of black balls after 3 takes, if every time we take a ball we keep it.\n",
    "\n",
    "The number of black balls after 3 takes, if every time we take a ball we put it again into the urn."
   ]
  },
  {
   "cell_type": "code",
   "execution_count": null,
   "metadata": {},
   "outputs": [],
   "source": [
    "Measure Space = "
   ]
  },
  {
   "cell_type": "code",
   "execution_count": null,
   "metadata": {},
   "outputs": [],
   "source": []
  }
 ],
 "metadata": {
  "kernelspec": {
   "display_name": "Python 3",
   "language": "python",
   "name": "python3"
  },
  "language_info": {
   "codemirror_mode": {
    "name": "ipython",
    "version": 3
   },
   "file_extension": ".py",
   "mimetype": "text/x-python",
   "name": "python",
   "nbconvert_exporter": "python",
   "pygments_lexer": "ipython3",
   "version": "3.7.1"
  }
 },
 "nbformat": 4,
 "nbformat_minor": 2
}
